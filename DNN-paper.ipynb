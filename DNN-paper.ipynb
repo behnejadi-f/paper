{
 "cells": [
  {
   "cell_type": "code",
   "execution_count": 1,
   "metadata": {},
   "outputs": [],
   "source": [
    "#A simple DNN model of three hidden layer is developed in this code\n",
    "from keras.models import Sequential\n",
    "from keras.layers import Dense,Dropout\n",
    "from sklearn.model_selection import train_test_split\n",
    "from sklearn.metrics import roc_auc_score\n",
    "import numpy as np\n",
    "\n"
   ]
  },
  {
   "cell_type": "code",
   "execution_count": 4,
   "metadata": {},
   "outputs": [],
   "source": [
    "dataset = np.genfromtxt('data.row\\\\ASDDataset_Augmented.csv', delimiter=',')"
   ]
  },
  {
   "cell_type": "code",
   "execution_count": 5,
   "metadata": {},
   "outputs": [],
   "source": [
    "#print(dataset.shape)\n",
    "features = dataset[1:,:10000]\n",
    "labels = dataset[1:,10000].astype(dtype='int')\n",
    "#print(labels)"
   ]
  },
  {
   "cell_type": "code",
   "execution_count": 6,
   "metadata": {},
   "outputs": [],
   "source": [
    "X_train, X_test, Y_train, Y_test = train_test_split(features, labels, test_size=0.30, random_state=42)"
   ]
  },
  {
   "cell_type": "code",
   "execution_count": 7,
   "metadata": {},
   "outputs": [],
   "source": [
    "model = Sequential()\n",
    "model.add(Dense(500, input_dim=(10000), activation='relu'))\n",
    "\n",
    "model.add(Dense(200, activation='relu'))\n",
    "model.add(Dropout(0.2))\n",
    "\n",
    "model.add(Dense(100, activation='relu'))\n",
    "model.add(Dropout(0.2))\n",
    "\n",
    "model.add(Dense(50, activation='relu'))\n",
    "model.add(Dropout(0.2))\n",
    "\n",
    "model.add(Dense(1, activation='sigmoid'))\n"
   ]
  },
  {
   "cell_type": "code",
   "execution_count": 8,
   "metadata": {},
   "outputs": [],
   "source": [
    "#Compile model\n",
    "model.compile(loss='binary_crossentropy', optimizer='adam', metrics=['accuracy'])"
   ]
  },
  {
   "cell_type": "code",
   "execution_count": 9,
   "metadata": {},
   "outputs": [
    {
     "name": "stdout",
     "output_type": "stream",
     "text": [
      "Epoch 1/100\n",
      "181/181 [==============================] - 6s 33ms/step - loss: 0.6747 - accuracy: 0.5861\n",
      "Epoch 2/100\n",
      "181/181 [==============================] - 6s 33ms/step - loss: 0.6034 - accuracy: 0.6888\n",
      "Epoch 3/100\n",
      "181/181 [==============================] - 6s 33ms/step - loss: 0.5570 - accuracy: 0.7224\n",
      "Epoch 4/100\n",
      "181/181 [==============================] - 6s 33ms/step - loss: 0.5304 - accuracy: 0.7426\n",
      "Epoch 5/100\n",
      "181/181 [==============================] - 6s 33ms/step - loss: 0.5064 - accuracy: 0.7583\n",
      "Epoch 6/100\n",
      "181/181 [==============================] - 6s 32ms/step - loss: 0.5033 - accuracy: 0.7634\n",
      "Epoch 7/100\n",
      "181/181 [==============================] - 6s 34ms/step - loss: 0.4694 - accuracy: 0.7813\n",
      "Epoch 8/100\n",
      "181/181 [==============================] - 6s 31ms/step - loss: 0.4473 - accuracy: 0.8006\n",
      "Epoch 9/100\n",
      "181/181 [==============================] - 6s 32ms/step - loss: 0.4257 - accuracy: 0.8099\n",
      "Epoch 10/100\n",
      "181/181 [==============================] - 6s 31ms/step - loss: 0.4156 - accuracy: 0.8204\n",
      "Epoch 11/100\n",
      "181/181 [==============================] - 6s 33ms/step - loss: 0.4043 - accuracy: 0.8223\n",
      "Epoch 12/100\n",
      "181/181 [==============================] - 6s 33ms/step - loss: 0.3798 - accuracy: 0.8361\n",
      "Epoch 13/100\n",
      "181/181 [==============================] - 6s 33ms/step - loss: 0.3662 - accuracy: 0.8435\n",
      "Epoch 14/100\n",
      "181/181 [==============================] - 6s 34ms/step - loss: 0.3338 - accuracy: 0.8660\n",
      "Epoch 15/100\n",
      "181/181 [==============================] - 6s 36ms/step - loss: 0.3111 - accuracy: 0.8738\n",
      "Epoch 16/100\n",
      "181/181 [==============================] - 6s 33ms/step - loss: 0.3224 - accuracy: 0.8692\n",
      "Epoch 17/100\n",
      "181/181 [==============================] - 6s 34ms/step - loss: 0.3148 - accuracy: 0.8692\n",
      "Epoch 18/100\n",
      "181/181 [==============================] - 7s 36ms/step - loss: 0.2809 - accuracy: 0.8913\n",
      "Epoch 19/100\n",
      "181/181 [==============================] - 6s 33ms/step - loss: 0.2942 - accuracy: 0.8817\n",
      "Epoch 20/100\n",
      "181/181 [==============================] - 6s 33ms/step - loss: 0.2633 - accuracy: 0.8973\n",
      "Epoch 21/100\n",
      "181/181 [==============================] - 6s 32ms/step - loss: 0.2662 - accuracy: 0.8904\n",
      "Epoch 22/100\n",
      "181/181 [==============================] - 6s 32ms/step - loss: 0.2460 - accuracy: 0.9088\n",
      "Epoch 23/100\n",
      "181/181 [==============================] - 6s 34ms/step - loss: 0.2470 - accuracy: 0.9070\n",
      "Epoch 24/100\n",
      "181/181 [==============================] - 6s 32ms/step - loss: 0.2321 - accuracy: 0.9125\n",
      "Epoch 25/100\n",
      "181/181 [==============================] - 6s 32ms/step - loss: 0.2230 - accuracy: 0.9199\n",
      "Epoch 26/100\n",
      "181/181 [==============================] - 6s 32ms/step - loss: 0.2298 - accuracy: 0.9107\n",
      "Epoch 27/100\n",
      "181/181 [==============================] - 6s 32ms/step - loss: 0.2089 - accuracy: 0.9199\n",
      "Epoch 28/100\n",
      "181/181 [==============================] - 6s 34ms/step - loss: 0.1900 - accuracy: 0.9291\n",
      "Epoch 29/100\n",
      "181/181 [==============================] - 6s 34ms/step - loss: 0.2245 - accuracy: 0.9134\n",
      "Epoch 30/100\n",
      "181/181 [==============================] - 6s 32ms/step - loss: 0.1977 - accuracy: 0.9277\n",
      "Epoch 31/100\n",
      "181/181 [==============================] - 6s 32ms/step - loss: 0.1852 - accuracy: 0.9355\n",
      "Epoch 32/100\n",
      "181/181 [==============================] - 6s 32ms/step - loss: 0.1738 - accuracy: 0.9378\n",
      "Epoch 33/100\n",
      "181/181 [==============================] - 6s 32ms/step - loss: 0.1610 - accuracy: 0.9448\n",
      "Epoch 34/100\n",
      "181/181 [==============================] - 6s 34ms/step - loss: 0.1594 - accuracy: 0.9443\n",
      "Epoch 35/100\n",
      "181/181 [==============================] - 6s 33ms/step - loss: 0.1683 - accuracy: 0.9374\n",
      "Epoch 36/100\n",
      "181/181 [==============================] - 6s 33ms/step - loss: 0.1620 - accuracy: 0.9406\n",
      "Epoch 37/100\n",
      "181/181 [==============================] - 6s 33ms/step - loss: 0.1483 - accuracy: 0.9494\n",
      "Epoch 38/100\n",
      "181/181 [==============================] - 6s 33ms/step - loss: 0.1252 - accuracy: 0.9581\n",
      "Epoch 39/100\n",
      "181/181 [==============================] - 6s 34ms/step - loss: 0.1331 - accuracy: 0.9540\n",
      "Epoch 40/100\n",
      "181/181 [==============================] - 6s 33ms/step - loss: 0.1366 - accuracy: 0.9535\n",
      "Epoch 41/100\n",
      "181/181 [==============================] - 6s 35ms/step - loss: 0.1671 - accuracy: 0.9392\n",
      "Epoch 42/100\n",
      "181/181 [==============================] - 6s 35ms/step - loss: 0.1663 - accuracy: 0.9365\n",
      "Epoch 43/100\n",
      "181/181 [==============================] - 6s 33ms/step - loss: 0.1362 - accuracy: 0.9530\n",
      "Epoch 44/100\n",
      "181/181 [==============================] - 6s 32ms/step - loss: 0.1215 - accuracy: 0.9576\n",
      "Epoch 45/100\n",
      "181/181 [==============================] - 6s 33ms/step - loss: 0.1065 - accuracy: 0.9618\n",
      "Epoch 46/100\n",
      "181/181 [==============================] - 6s 33ms/step - loss: 0.1312 - accuracy: 0.9480\n",
      "Epoch 47/100\n",
      "181/181 [==============================] - 6s 34ms/step - loss: 0.1003 - accuracy: 0.9664\n",
      "Epoch 48/100\n",
      "181/181 [==============================] - 6s 34ms/step - loss: 0.0914 - accuracy: 0.9669\n",
      "Epoch 49/100\n",
      "181/181 [==============================] - 6s 34ms/step - loss: 0.0886 - accuracy: 0.9696\n",
      "Epoch 50/100\n",
      "181/181 [==============================] - 6s 33ms/step - loss: 0.0895 - accuracy: 0.9692\n",
      "Epoch 51/100\n",
      "181/181 [==============================] - 6s 33ms/step - loss: 0.1013 - accuracy: 0.9604\n",
      "Epoch 52/100\n",
      "181/181 [==============================] - 6s 32ms/step - loss: 0.0976 - accuracy: 0.9655\n",
      "Epoch 53/100\n",
      "181/181 [==============================] - 6s 32ms/step - loss: 0.0832 - accuracy: 0.9710\n",
      "Epoch 54/100\n",
      "181/181 [==============================] - 6s 32ms/step - loss: 0.0986 - accuracy: 0.9659\n",
      "Epoch 55/100\n",
      "181/181 [==============================] - 6s 32ms/step - loss: 0.1087 - accuracy: 0.9586\n",
      "Epoch 56/100\n",
      "181/181 [==============================] - 6s 33ms/step - loss: 0.0708 - accuracy: 0.9774\n",
      "Epoch 57/100\n",
      "181/181 [==============================] - 6s 33ms/step - loss: 0.0673 - accuracy: 0.9784\n",
      "Epoch 58/100\n",
      "181/181 [==============================] - 6s 34ms/step - loss: 0.0843 - accuracy: 0.9733\n",
      "Epoch 59/100\n",
      "181/181 [==============================] - 6s 35ms/step - loss: 0.0600 - accuracy: 0.9797\n",
      "Epoch 60/100\n",
      "181/181 [==============================] - 6s 34ms/step - loss: 0.0568 - accuracy: 0.9807\n",
      "Epoch 61/100\n",
      "181/181 [==============================] - 6s 33ms/step - loss: 0.1463 - accuracy: 0.9517\n",
      "Epoch 62/100\n",
      "181/181 [==============================] - 6s 32ms/step - loss: 0.0789 - accuracy: 0.9742\n",
      "Epoch 63/100\n",
      "181/181 [==============================] - 6s 32ms/step - loss: 0.1122 - accuracy: 0.9664\n",
      "Epoch 64/100\n",
      "181/181 [==============================] - 6s 32ms/step - loss: 0.0919 - accuracy: 0.9682\n",
      "Epoch 65/100\n",
      "181/181 [==============================] - 6s 32ms/step - loss: 0.0657 - accuracy: 0.9756\n",
      "Epoch 66/100\n",
      "181/181 [==============================] - 6s 33ms/step - loss: 0.0967 - accuracy: 0.9705\n",
      "Epoch 67/100\n",
      "181/181 [==============================] - 6s 33ms/step - loss: 0.0522 - accuracy: 0.9820\n",
      "Epoch 68/100\n",
      "181/181 [==============================] - 6s 33ms/step - loss: 0.0524 - accuracy: 0.9843\n",
      "Epoch 69/100\n",
      "181/181 [==============================] - 7s 36ms/step - loss: 0.0569 - accuracy: 0.9811\n",
      "Epoch 70/100\n",
      "181/181 [==============================] - 6s 35ms/step - loss: 0.0613 - accuracy: 0.9802\n",
      "Epoch 71/100\n",
      "181/181 [==============================] - 6s 33ms/step - loss: 0.1221 - accuracy: 0.9609\n",
      "Epoch 72/100\n",
      "181/181 [==============================] - 6s 32ms/step - loss: 0.0719 - accuracy: 0.9793 0s - l\n",
      "Epoch 73/100\n",
      "181/181 [==============================] - 6s 31ms/step - loss: 0.0484 - accuracy: 0.9816\n",
      "Epoch 74/100\n",
      "181/181 [==============================] - 5s 30ms/step - loss: 0.0868 - accuracy: 0.9710\n",
      "Epoch 75/100\n",
      "181/181 [==============================] - 6s 31ms/step - loss: 0.0489 - accuracy: 0.9853 1s - loss: 0.0456 - accuracy: 0.98 -\n",
      "Epoch 76/100\n",
      "181/181 [==============================] - 6s 30ms/step - loss: 0.0471 - accuracy: 0.9839 0s - l\n",
      "Epoch 77/100\n",
      "181/181 [==============================] - 6s 30ms/step - loss: 0.0478 - accuracy: 0.9820\n",
      "Epoch 78/100\n",
      "181/181 [==============================] - 5s 30ms/step - loss: 0.0835 - accuracy: 0.9719\n",
      "Epoch 79/100\n",
      "181/181 [==============================] - 6s 33ms/step - loss: 0.0773 - accuracy: 0.9765\n",
      "Epoch 80/100\n",
      "181/181 [==============================] - 6s 34ms/step - loss: 0.0308 - accuracy: 0.9894 0s - loss: 0.0313 - accu\n",
      "Epoch 81/100\n",
      "181/181 [==============================] - 6s 33ms/step - loss: 0.0706 - accuracy: 0.9784\n",
      "Epoch 82/100\n",
      "181/181 [==============================] - 6s 32ms/step - loss: 0.0515 - accuracy: 0.9848\n",
      "Epoch 83/100\n",
      "181/181 [==============================] - 6s 32ms/step - loss: 0.0339 - accuracy: 0.9866\n",
      "Epoch 84/100\n",
      "181/181 [==============================] - 6s 32ms/step - loss: 0.0450 - accuracy: 0.9816\n",
      "Epoch 85/100\n",
      "181/181 [==============================] - 6s 33ms/step - loss: 0.0323 - accuracy: 0.9903\n",
      "Epoch 86/100\n",
      "181/181 [==============================] - 6s 32ms/step - loss: 0.0672 - accuracy: 0.9779\n",
      "Epoch 87/100\n",
      "181/181 [==============================] - 6s 33ms/step - loss: 0.0366 - accuracy: 0.9871\n",
      "Epoch 88/100\n",
      "181/181 [==============================] - 6s 32ms/step - loss: 0.0564 - accuracy: 0.9788\n",
      "Epoch 89/100\n",
      "181/181 [==============================] - 6s 33ms/step - loss: 0.0421 - accuracy: 0.9853\n",
      "Epoch 90/100\n",
      "181/181 [==============================] - 6s 32ms/step - loss: 0.0753 - accuracy: 0.9724\n",
      "Epoch 91/100\n",
      "181/181 [==============================] - 6s 32ms/step - loss: 0.0230 - accuracy: 0.9931\n",
      "Epoch 92/100\n",
      "181/181 [==============================] - 6s 32ms/step - loss: 0.0370 - accuracy: 0.9890\n",
      "Epoch 93/100\n",
      "181/181 [==============================] - 6s 32ms/step - loss: 0.0520 - accuracy: 0.9834\n",
      "Epoch 94/100\n",
      "181/181 [==============================] - 6s 32ms/step - loss: 0.0347 - accuracy: 0.9890\n",
      "Epoch 95/100\n",
      "181/181 [==============================] - 6s 32ms/step - loss: 0.0431 - accuracy: 0.9862\n",
      "Epoch 96/100\n",
      "181/181 [==============================] - 6s 32ms/step - loss: 0.0265 - accuracy: 0.9913\n",
      "Epoch 97/100\n",
      "181/181 [==============================] - 6s 32ms/step - loss: 0.0682 - accuracy: 0.9802\n",
      "Epoch 98/100\n",
      "181/181 [==============================] - 6s 32ms/step - loss: 0.0298 - accuracy: 0.9894\n",
      "Epoch 99/100\n",
      "181/181 [==============================] - 6s 32ms/step - loss: 0.0560 - accuracy: 0.9834\n",
      "Epoch 100/100\n",
      "181/181 [==============================] - 6s 32ms/step - loss: 0.0298 - accuracy: 0.9913\n"
     ]
    },
    {
     "data": {
      "text/plain": [
       "<tensorflow.python.keras.callbacks.History at 0x1c90d792a58>"
      ]
     },
     "execution_count": 9,
     "metadata": {},
     "output_type": "execute_result"
    }
   ],
   "source": [
    "#Fit the model\n",
    "model.fit(X_train, Y_train, batch_size=12, epochs=100, verbose=1)\n"
   ]
  },
  {
   "cell_type": "code",
   "execution_count": 11,
   "metadata": {},
   "outputs": [
    {
     "name": "stdout",
     "output_type": "stream",
     "text": [
      "[1.7844221591949463, 0.7776584029197693]\n"
     ]
    }
   ],
   "source": [
    "#Evaluate model on test data\n",
    "score = model.evaluate(X_test, Y_test, verbose=0)\n",
    "print(score)\n",
    "\n",
    "\n"
   ]
  },
  {
   "cell_type": "code",
   "execution_count": 13,
   "metadata": {},
   "outputs": [
    {
     "name": "stdout",
     "output_type": "stream",
     "text": [
      "0.7701754385964913\n"
     ]
    }
   ],
   "source": [
    "y_pred = model.predict(X_test)\n",
    "AUC = roc_auc_score(Y_test, y_pred.round())\n",
    "print(AUC) #0.8119512885868027 on non-augmented dataset"
   ]
  },
  {
   "cell_type": "code",
   "execution_count": null,
   "metadata": {},
   "outputs": [],
   "source": []
  }
 ],
 "metadata": {
  "kernelspec": {
   "display_name": "Python 3",
   "language": "python",
   "name": "python3"
  },
  "language_info": {
   "codemirror_mode": {
    "name": "ipython",
    "version": 3
   },
   "file_extension": ".py",
   "mimetype": "text/x-python",
   "name": "python",
   "nbconvert_exporter": "python",
   "pygments_lexer": "ipython3",
   "version": "3.7.6"
  }
 },
 "nbformat": 4,
 "nbformat_minor": 2
}
