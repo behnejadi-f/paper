{
 "cells": [
  {
   "cell_type": "code",
   "execution_count": 7,
   "metadata": {
    "id": "xp8DMdWbyyee"
   },
   "outputs": [],
   "source": [
    "from keras.models import Sequential\n",
    "from keras.layers import Dense,Dropout\n",
    "from sklearn.model_selection import train_test_split\n",
    "from sklearn.metrics import roc_auc_score\n",
    "import numpy as np\n",
    "from sklearn.model_selection import StratifiedKFold\n",
    "from keras.optimizers import SGD\n",
    "from keras.optimizers import Adam"
   ]
  },
  {
   "cell_type": "code",
   "execution_count": 8,
   "metadata": {
    "id": "Lsw4hLWjyy7T"
   },
   "outputs": [],
   "source": [
    "dataset = np.genfromtxt('data.row/ASDDataset_Augmented.csv', delimiter=',')"
   ]
  },
  {
   "cell_type": "code",
   "execution_count": 13,
   "metadata": {
    "colab": {
     "base_uri": "https://localhost:8080/"
    },
    "id": "QJDhJ9Jfyzzg",
    "outputId": "b1c27dc8-0d7a-4957-a7e0-da3135368a5c"
   },
   "outputs": [
    {
     "name": "stdout",
     "output_type": "stream",
     "text": [
      "(3104, 10001)\n"
     ]
    }
   ],
   "source": [
    "print(dataset.shape)\n",
    "X = dataset[1:,:10000]\n",
    "Y = dataset[1:,10000].astype(dtype='int')\n",
    "#print(labels)"
   ]
  },
  {
   "cell_type": "code",
   "execution_count": 15,
   "metadata": {
    "colab": {
     "base_uri": "https://localhost:8080/"
    },
    "id": "KKmB__y0yzhn",
    "outputId": "2c4802c2-62b3-4f95-f47c-b47c0b05f095"
   },
   "outputs": [
    {
     "name": "stdout",
     "output_type": "stream",
     "text": [
      "[1.7366657257080078, 0.7684887647628784]\n",
      "[2.4021356105804443, 0.700964629650116]\n",
      "[2.4615581035614014, 0.7234726548194885]\n",
      "[1.7376043796539307, 0.7451612949371338]\n",
      "[3.198970317840576, 0.7225806713104248]\n",
      "[1.9396172761917114, 0.7612903118133545]\n",
      "[2.1312952041625977, 0.7838709950447083]\n",
      "[2.4563074111938477, 0.7612903118133545]\n",
      "[2.3906242847442627, 0.7483870983123779]\n",
      "[1.8283799886703491, 0.7677419185638428]\n",
      "0.7280452035886817\n"
     ]
    }
   ],
   "source": [
    "kfold = StratifiedKFold(n_splits=10, shuffle=True, random_state=0).split(X, Y)\n",
    "cvscores = []\n",
    "for train, test in kfold:\n",
    "    \n",
    "    # تعریف مدل\n",
    "    model = Sequential()\n",
    "    model.add(Dense(400, input_dim=(10000), activation='relu'))\n",
    "  \n",
    "    \n",
    "    model.add(Dense(200, activation='relu'))\n",
    "    model.add(Dropout(0.2))\n",
    "       \n",
    "    model.add(Dense(1, activation='sigmoid'))\n",
    "    \n",
    "    \n",
    "    \n",
    "    # Compile model\n",
    "    #opt = SGD(lr=0.001,momentum=0.99,decay=0.01,nesterov=False)\n",
    "    opt = Adam(learning_rate=0.01,beta_1=0.9,beta_2=0.999,epsilon=1e-07,amsgrad=False,name=\"Adam\",)\n",
    "    #opt = Adam(learning_rate=0.001, beta_1=0.9, beta_2=0.999, epsilon=1e-07, amsgrad=False, name='Adam')\n",
    "    model.compile(loss= 'binary_crossentropy' , optimizer= opt , metrics=[ 'accuracy' ])\n",
    "    \n",
    "    # Fit the model\n",
    "    model.fit(X[train], Y[train], validation_split=0.2,  epochs=100, batch_size=12, verbose=0)\n",
    "    \n",
    "   \n",
    "    # ارزیابی مدل\n",
    "    scores = model.evaluate(X[test], Y[test], verbose=0)\n",
    "    print(scores)\n",
    "    \n",
    "    \n",
    "    y_pred = model.predict(X[test])\n",
    "    AUC = roc_auc_score(Y[test], y_pred.round())\n",
    "print(AUC)"
   ]
  }
 ],
 "metadata": {
  "accelerator": "GPU",
  "colab": {
   "name": "battah4",
   "provenance": []
  },
  "kernelspec": {
   "display_name": "Python 3",
   "language": "python",
   "name": "python3"
  },
  "language_info": {
   "codemirror_mode": {
    "name": "ipython",
    "version": 3
   },
   "file_extension": ".py",
   "mimetype": "text/x-python",
   "name": "python",
   "nbconvert_exporter": "python",
   "pygments_lexer": "ipython3",
   "version": "3.7.6"
  }
 },
 "nbformat": 4,
 "nbformat_minor": 1
}
